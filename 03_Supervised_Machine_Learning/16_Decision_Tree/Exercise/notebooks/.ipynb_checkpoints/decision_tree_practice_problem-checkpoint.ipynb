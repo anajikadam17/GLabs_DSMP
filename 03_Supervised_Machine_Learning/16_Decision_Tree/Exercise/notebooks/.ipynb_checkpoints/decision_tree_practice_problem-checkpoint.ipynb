{
 "cells": [
  {
   "cell_type": "markdown",
   "metadata": {
    "slideshow": {
     "slide_type": "slide"
    }
   },
   "source": [
    "<center><h1> Decision Trees </h1></center>"
   ]
  },
  {
   "cell_type": "code",
   "execution_count": 1,
   "metadata": {},
   "outputs": [
    {
     "name": "stdout",
     "output_type": "stream",
     "text": [
      "Collecting package metadata: ...working... done\n",
      "Solving environment: ...working... done\n",
      "\n",
      "## Package Plan ##\n",
      "\n",
      "  environment location: C:\\ProgramData\\Anaconda3\n",
      "\n",
      "  added / updated specs:\n",
      "    - pydotplus\n",
      "\n",
      "\n",
      "The following NEW packages will be INSTALLED:\n",
      "\n",
      "  conda-package-han~ conda-forge/win-64::conda-package-handling-1.6.0-py37h2fa13f4_1\n",
      "  graphviz           conda-forge/win-64::graphviz-2.38.0-h6538335_1011\n",
      "  pydotplus          conda-forge/noarch::pydotplus-2.0.2-py_2\n",
      "\n",
      "The following packages will be UPDATED:\n",
      "\n",
      "  conda                      pkgs/main::conda-4.6.11-py37_0 --> conda-forge::conda-4.8.0-py37_1\n",
      "\n",
      "The following packages will be SUPERSEDED by a higher-priority channel:\n",
      "\n",
      "  certifi                                         pkgs/main --> conda-forge\n",
      "\n",
      "\n",
      "Preparing transaction: ...working... done\n",
      "Verifying transaction: ...working... failed\n",
      "\n",
      "Note: you may need to restart the kernel to use updated packages.\n"
     ]
    },
    {
     "name": "stderr",
     "output_type": "stream",
     "text": [
      "WARNING: The conda.compat module is deprecated and will be removed in a future release.\n",
      "\n",
      "\n",
      "==> WARNING: A newer version of conda exists. <==\n",
      "  current version: 4.6.11\n",
      "  latest version: 4.8.0\n",
      "\n",
      "Please update conda by running\n",
      "\n",
      "    $ conda update -n base -c defaults conda\n",
      "\n",
      "\n",
      "\n",
      "EnvironmentNotWritableError: The current user does not have write permissions to the target environment.\n",
      "  environment location: C:\\ProgramData\\Anaconda3\n",
      "\n",
      "\n"
     ]
    }
   ],
   "source": [
    "conda install -c conda-forge pydotplus"
   ]
  },
  {
   "cell_type": "markdown",
   "metadata": {},
   "source": [
    "## Explainer Video"
   ]
  },
  {
   "cell_type": "code",
   "execution_count": null,
   "metadata": {},
   "outputs": [],
   "source": [
    "conda update -n base -c defaults conda"
   ]
  },
  {
   "cell_type": "code",
   "execution_count": null,
   "metadata": {},
   "outputs": [],
   "source": [
    "conda install -c conda-forge pydotplus"
   ]
  },
  {
   "cell_type": "code",
   "execution_count": null,
   "metadata": {},
   "outputs": [],
   "source": [
    "from IPython.display import HTML\n",
    "HTML('<iframe src=\"https://player.vimeo.com/video/281222904\" width=\"800\" height=\"600\" frameborder=\"0\" allow=\"autoplay; fullscreen\" allowfullscreen></iframe>')"
   ]
  },
  {
   "cell_type": "markdown",
   "metadata": {},
   "source": [
    " <center><h1>Banknote authentication data set </h1></center>\n",
    "\n",
    "### Data Set Information:\n",
    "\n",
    "Data were extracted from images that were taken from genuine and forged banknote-like specimens. For digitization, an industrial camera usually used for print inspection was used. The final images have 400x 400 pixels. Due to the object lens and distance to the investigated object gray-scale pictures with a resolution of about 660 dpi were gained. Wavelet Transform tool were used to extract features from images.\n",
    "\n",
    "\n",
    "### Attribute Information:\n",
    "```python\n",
    "1. variance of Wavelet Transformed image (continuous) \n",
    "2. skewness of Wavelet Transformed image (continuous) \n",
    "3. curtosis of Wavelet Transformed image (continuous) \n",
    "4. entropy of image (continuous) \n",
    "5. class (integer) \n",
    "```"
   ]
  },
  {
   "cell_type": "markdown",
   "metadata": {},
   "source": [
    "### Importing Libraries"
   ]
  },
  {
   "cell_type": "code",
   "execution_count": 1,
   "metadata": {},
   "outputs": [],
   "source": [
    "import pandas as pd  \n",
    "import numpy as np  \n",
    "import matplotlib.pyplot as plt  \n",
    "%matplotlib inline"
   ]
  },
  {
   "cell_type": "markdown",
   "metadata": {},
   "source": [
    "### Importing the Dataset\n",
    "We will use panda's read_csv method to read our CSV data file. "
   ]
  },
  {
   "cell_type": "code",
   "execution_count": 2,
   "metadata": {},
   "outputs": [],
   "source": [
    "dataset = pd.read_csv(\"../data/bill_authentication.csv\") "
   ]
  },
  {
   "cell_type": "markdown",
   "metadata": {},
   "source": [
    "<img src='../images/icon/ppt-icons.png' alt='Mini-Challenge' style=\"width: 100px;float:left; margin-right:15px\"/><br/>\n",
    "\n",
    "## Mini-Challenge - 1\n",
    "***\n",
    "### Instructions\n",
    "\n",
    "* Print to see the number of rows and columns in our dataset.\n",
    "* Print to check the first five records of the dataset."
   ]
  },
  {
   "cell_type": "code",
   "execution_count": null,
   "metadata": {},
   "outputs": [],
   "source": [
    "print(dataset.shape)  \n",
    "print(dataset.head())  "
   ]
  },
  {
   "cell_type": "markdown",
   "metadata": {},
   "source": [
    "<img src='../images/icon/ppt-icons.png' alt='Mini-Challenge' style=\"width: 100px;float:left; margin-right:15px\"/><br/>\n",
    "\n",
    "## Mini-Challenge - 2\n",
    "***\n",
    "### Instructions\n",
    "\n",
    "* Store all the features(independent values) in a variable called `X`\n",
    "* Store the target variable `Class`(dependent value) in a variable called `y`"
   ]
  },
  {
   "cell_type": "code",
   "execution_count": null,
   "metadata": {},
   "outputs": [],
   "source": [
    "X = dataset.drop('Class', axis=1)  \n",
    "y = dataset['Class']  "
   ]
  },
  {
   "cell_type": "markdown",
   "metadata": {},
   "source": [
    "<img src='../images/icon/ppt-icons.png' alt='Mini-Challenge' style=\"width: 100px;float:left; margin-right:15px\"/><br/>\n",
    "\n",
    "## Mini-Challenge - 3\n",
    "***\n",
    "### Instructions\n",
    "\n",
    "* Import `train_test_split` from sklearn model_selection library.\n",
    "* Split `X` and `y` into `X_train,X_test,y_train,y_test` using `train_test_split()` function. Use \n",
    "`test_size = 0.20` "
   ]
  },
  {
   "cell_type": "code",
   "execution_count": null,
   "metadata": {},
   "outputs": [],
   "source": [
    "from sklearn.model_selection import train_test_split  \n",
    "X_train, X_test, y_train, y_test = train_test_split(X, y, test_size=0.20)   "
   ]
  },
  {
   "cell_type": "markdown",
   "metadata": {},
   "source": [
    "<img src='../images/icon/ppt-icons.png' alt='Mini-Challenge' style=\"width: 100px;float:left; margin-right:15px\"/><br/>\n",
    "\n",
    "## Mini-Challenge - 4\n",
    "***\n",
    "### Instructions\n",
    "\n",
    "* Import `DecisionTreeClassifier` from sklearn tree library.\n",
    "* Initialise a Decision tree classifier model with `DecisionTreeClassifier()` and save it to a variable called `classifier`.Pass the parameter `max_depth=2` while initializing the object. (You can also pass the parameter criterion=entropy/criterion=gini. It is criterion=gini by default).\n",
    "* Fit the classifier on the training data `X_train` and `y_train` using the `fit()` method.\n",
    "* Using predict method of classifier predict on the test data `X_test` and store in the variable as `y_pred`"
   ]
  },
  {
   "cell_type": "code",
   "execution_count": null,
   "metadata": {},
   "outputs": [],
   "source": [
    "from sklearn.tree import DecisionTreeClassifier  \n",
    "classifier = DecisionTreeClassifier(max_depth =2,criterion='entropy')  \n",
    "classifier.fit(X_train, y_train)\n",
    "y_pred = classifier.predict(X_test)  "
   ]
  },
  {
   "cell_type": "markdown",
   "metadata": {},
   "source": [
    "<img src='../images/icon/ppt-icons.png' alt='Mini-Challenge' style=\"width: 100px;float:left; margin-right:15px\"/><br/>\n",
    "\n",
    "## Mini-Challenge - 6\n",
    "***\n",
    "### Instructions\n",
    "\n",
    "* Use the tree.export_graphviz() module to create the graphic visualization object of the learned tree `classifier` .Input the parameters `classifier`, `out_file=None`, `feature_names=X.columns`, `filled = True`, `class_names=['class_yes','class_no']` and save it as `dot_data`\n",
    "\n",
    "* Use the pydotplus.graph_from_dot_data() module to draw the graph. Save it as `graph`\n",
    "\n",
    "* To display the graph we save the above created image into a file and display it using matplotlib as  `Image(graph.create_png())` "
   ]
  },
  {
   "cell_type": "code",
   "execution_count": null,
   "metadata": {},
   "outputs": [],
   "source": [
    "from IPython.display import Image  \n",
    "from sklearn import tree\n",
    "import pydotplus\n",
    "\n",
    "# Create DOT data\n",
    "dot_data = tree.export_graphviz(classifier, out_file=None, \n",
    "                                feature_names=X.columns, filled = True,  \n",
    "                                class_names=['class_yes','class_no'])\n",
    "\n",
    "# Draw graph\n",
    "graph = pydotplus.graph_from_dot_data(dot_data)  \n",
    "\n",
    "# Show graph\n",
    "Image(graph.create_png())"
   ]
  },
  {
   "cell_type": "markdown",
   "metadata": {},
   "source": [
    "<img src='../images/icon/ppt-icons.png' alt='Mini-Challenge' style=\"width: 100px;float:left; margin-right:15px\"/><br/>\n",
    "\n",
    "## Mini-Challenge - 5\n",
    "***\n",
    "### Instructions\n",
    "\n",
    "* From Scikit Learns metrics library import `classification_report` and `confusion_matrix` methods that can be used   to calculate these metrics."
   ]
  },
  {
   "cell_type": "code",
   "execution_count": null,
   "metadata": {},
   "outputs": [],
   "source": [
    " from sklearn.metrics import classification_report, confusion_matrix  \n",
    "print(confusion_matrix(y_test, y_pred))  \n",
    "print(classification_report(y_test, y_pred))  "
   ]
  },
  {
   "cell_type": "markdown",
   "metadata": {},
   "source": [
    "# Quiz \n",
    "\n",
    "__Q.1.). Which of the following are not used for deciding the splits in a decision tree ?__<br/>\n",
    "a. Gini Index<br/>\n",
    "b. Entropy/Information Gain<br/>\n",
    "c. ANOVA<br/>\n",
    "d. Chi-square<br/>\n",
    "<br/>\n",
    "\n",
    "__Q.2). Which of the following is Decision Tree known to suffer from ?__<br/>\n",
    "a. High bias & low variance<br/>\n",
    "b. Low bias & high variance<br/>\n",
    ".<br/>\n",
    "\n",
    "__Q.3). A bag consists of 64 blue marbles and 36 red marbles. What is the gini index for the bag?__<br/>\n",
    "a. 0.4608<br/>\n",
    "b. 0.4509<br/>\n",
    "c. 0.3456<br/>\n",
    "\n",
    "\n",
    "__Q.4). For the above example what is the value of cross-entropy ?__<br/>\n",
    "a. 0.5364<br/>\n",
    "b. 0.3654<br/>\n",
    "c. 0.6534<br/>\n",
    "\n",
    "\n",
    "__Q.5). In which of the scenarios is a gain ratio preferred over Information Gain ?__<br/>\n",
    "a.). When a categorical variable has very large number of category<br/>\n",
    "b.). When a categorical variable has very small number of category<br/>\n",
    "c.). Number of categories is the not the reason<br/>\n",
    "d.). None of these<br/>\n",
    "<br/>\n",
    "\n",
    "\n",
    "\n"
   ]
  },
  {
   "cell_type": "markdown",
   "metadata": {
    "collapsed": true,
    "slideshow": {
     "slide_type": "slide"
    }
   },
   "source": [
    "# Thank You\n",
    "***\n",
    "### Coming up next...\n",
    "***\n",
    "- Ensembling & Random Forests\n",
    "\n",
    "For more queries - Reach out to academics@greyatom.com "
   ]
  }
 ],
 "metadata": {
  "anaconda-cloud": {},
  "celltoolbar": "Slideshow",
  "kernelspec": {
   "display_name": "Python 3",
   "language": "python",
   "name": "python3"
  },
  "language_info": {
   "codemirror_mode": {
    "name": "ipython",
    "version": 3
   },
   "file_extension": ".py",
   "mimetype": "text/x-python",
   "name": "python",
   "nbconvert_exporter": "python",
   "pygments_lexer": "ipython3",
   "version": "3.7.3"
  },
  "widgets": {
   "state": {},
   "version": "1.1.2"
  }
 },
 "nbformat": 4,
 "nbformat_minor": 2
}
