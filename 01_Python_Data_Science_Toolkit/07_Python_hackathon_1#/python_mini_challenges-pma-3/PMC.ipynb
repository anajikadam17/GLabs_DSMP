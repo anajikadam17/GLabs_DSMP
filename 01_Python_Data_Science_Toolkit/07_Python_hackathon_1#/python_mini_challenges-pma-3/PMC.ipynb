{
 "cells": [
  {
   "cell_type": "markdown",
   "metadata": {},
   "source": [
    "# Python Mini Challenges\n",
    "\n",
    "The most entertaining(and satisfying) way to improve your skills in a programming language is by doing challenges. Every challenge that is given in this assessment module can be solved by a bit of python programming and logical thinking.\n",
    "\n",
    "Some challenges may look easy,some may look tough but we hope you solve them all with the same vigour.\n",
    "\n",
    "All the best."
   ]
  },
  {
   "cell_type": "markdown",
   "metadata": {},
   "source": [
    "# Challenge 1: Smallest Palindrome\n",
    "\n",
    "\n",
    "Create a function called `palindrome(num)` that given a number `'num'`, finds the next smallest palindrome and returns it\n",
    "\n",
    "For eg:\n",
    "***\n",
    "**Input**\n",
    "\n",
    "```python\n",
    "palindrome(123)\n",
    "```\n",
    "\n",
    "**Output**\n",
    "```python\n",
    "131\n",
    "```\n",
    "***\n",
    "**Input**\n",
    "\n",
    "```python\n",
    "palindrome(1331)\n",
    "```\n",
    "\n",
    "**Output**\n",
    "```python\n",
    "1441\n",
    "```\n"
   ]
  },
  {
   "cell_type": "code",
   "execution_count": 6,
   "metadata": {},
   "outputs": [
    {
     "name": "stdout",
     "output_type": "stream",
     "text": [
      "1441\n"
     ]
    }
   ],
   "source": [
    "#Code starts here\n",
    "import sys\n",
    "def nextpal(num):\n",
    "    nums=str(num)\n",
    "    #print(range(num+1,sys.maxsize))\n",
    "    for i in range(num+1,sys.maxsize):\n",
    "        if str(i)==str(i)[::-1]:\n",
    "            return i\n",
    "print(nextpal(1331))\n",
    "#Code ends here        "
   ]
  },
  {
   "cell_type": "code",
   "execution_count": 93,
   "metadata": {},
   "outputs": [
    {
     "name": "stdout",
     "output_type": "stream",
     "text": [
      "131\n"
     ]
    }
   ],
   "source": [
    "def pal_ck(num):\n",
    "    num=str(num)\n",
    "    return (num[::-1]==num)\n",
    "\n",
    "def nxt_pal(num):\n",
    "    while(1):\n",
    "        num = num+1\n",
    "        if pal_ck(num):\n",
    "            return num\n",
    "print(nxt_pal(123))"
   ]
  },
  {
   "cell_type": "markdown",
   "metadata": {},
   "source": [
    "# Challenge 2: Anagram Scramble\n",
    "\n",
    "Create a function called `'a_scramble(str_1, str_2)'` that given the strings`'str_1'`,`'str_2'` returns `True` if a portion of `'str_1'` characters can be scrambled to match `'str2'`, else return `False`\n",
    "\n",
    "For eg:\n",
    "***\n",
    "**Input**\n",
    "\n",
    "```python\n",
    "a_scramble(\"Tom Marvolo Riddle\",\"Voldemort\")\n",
    "```\n",
    "\n",
    "**Output**\n",
    "```python\n",
    "True\n",
    "```\n",
    "***\n",
    "**Input**\n",
    "\n",
    "```python\n",
    "a_scramble(\"ticket\",\"chat\")\n",
    "```\n",
    "\n",
    "**Output**\n",
    "```python\n",
    "False\n",
    "```\n"
   ]
  },
  {
   "cell_type": "code",
   "execution_count": 70,
   "metadata": {},
   "outputs": [
    {
     "data": {
      "text/plain": [
       "False"
      ]
     },
     "execution_count": 70,
     "metadata": {},
     "output_type": "execute_result"
    }
   ],
   "source": [
    "#Code starts here\n",
    "def a_scramble(str1,str2):\n",
    "    bl=False\n",
    "    for i in str2.lower():\n",
    "        if i in str1.lower():\n",
    "            bl= True\n",
    "        else:\n",
    "            bl= False\n",
    "            break\n",
    "    return bl\n",
    "a_scramble(\"ticket\",\"chat\")\n",
    "#Code ends here"
   ]
  },
  {
   "cell_type": "code",
   "execution_count": 94,
   "metadata": {},
   "outputs": [
    {
     "data": {
      "text/plain": [
       "True"
      ]
     },
     "execution_count": 94,
     "metadata": {},
     "output_type": "execute_result"
    }
   ],
   "source": [
    "def a_scramble(str_1, str_2):\n",
    "    str_x, str_y = str_1.upper(),str_2.upper()\n",
    "    for i in range(len(str_y)):\n",
    "        if str_y[i] not in str_x:\n",
    "            return False\n",
    "    return True\n",
    "a_scramble(\"Tom Marvolo Riddle\",\"Voldemort\")"
   ]
  },
  {
   "cell_type": "code",
   "execution_count": 92,
   "metadata": {},
   "outputs": [
    {
     "data": {
      "text/plain": [
       "False"
      ]
     },
     "execution_count": 92,
     "metadata": {},
     "output_type": "execute_result"
    }
   ],
   "source": [
    "#for multi line comment select all and CTRL + /\n",
    "def a_scramble(str_1, str_2):\n",
    "    rs=True\n",
    "    for i in (str_2.lower()):\n",
    "        if i not in (str_1.lower()):\n",
    "            rs=False\n",
    "            break\n",
    "        str_1 = str_1.replace(i,'',1) #remove the letter from str_1 that are already checked\n",
    "    return (rs)\n",
    "a_scramble(\"ticket\",\"chat\")"
   ]
  },
  {
   "cell_type": "markdown",
   "metadata": {},
   "source": [
    "# Challenge 3: Fibonacci Check\n",
    "\n",
    "Create a function called `check_fib(num)` that checks if the given number `'num'` is part of the [fibonacci sequence](https://en.wikipedia.org/wiki/Fibonacci_number) and returns `True` if it is, else `False`\n",
    "\n",
    "For eg:\n",
    "***\n",
    "**Input**\n",
    "\n",
    "```python\n",
    "check_fib(145)\n",
    "```\n",
    "\n",
    "**Output**\n",
    "```python\n",
    "False\n",
    "```\n",
    "***\n",
    "**Input**\n",
    "\n",
    "```python\n",
    "check_fib(377)\n",
    "```\n",
    "\n",
    "**Output**\n",
    "```python\n",
    "True\n",
    "```\n",
    "\n",
    "\n"
   ]
  },
  {
   "cell_type": "code",
   "execution_count": 35,
   "metadata": {},
   "outputs": [
    {
     "name": "stdout",
     "output_type": "stream",
     "text": [
      "enter a number145\n",
      "entered number is 145\n"
     ]
    },
    {
     "data": {
      "text/plain": [
       "False"
      ]
     },
     "execution_count": 35,
     "metadata": {},
     "output_type": "execute_result"
    }
   ],
   "source": [
    "#Importing header files\n",
    "from math import sqrt\n",
    "\n",
    "#Code starts here\n",
    "def check_fib(num):\n",
    "   x,y=0,1\n",
    "   lis=[0,1]\n",
    "   while y<=num:\n",
    "       lis.append(y)\n",
    "       x,y=y,x+y\n",
    "   if num in lis:\n",
    "       return True\n",
    "   else:\n",
    "       return False\n",
    "num=int(input(\"enter a number\"))\n",
    "print(\"entered number is\", num)\n",
    "check_fib(num)\n",
    "\n",
    "#Code ends here"
   ]
  },
  {
   "cell_type": "markdown",
   "metadata": {},
   "source": [
    "# Challenge 4: String Compression\n",
    "\n",
    "Write a function `compress(word)` that given a word `word` returns the string with it's letters and how many times they occur continously together.\n",
    "\n",
    "For eg:\n",
    "\n",
    "***\n",
    "**Input**\n",
    "\n",
    "```python\n",
    "a_scramble(\"abbs\")\n",
    "```\n",
    "\n",
    "**Output**\n",
    "```python\n",
    "\"a1b2s1\"\n",
    "```\n",
    "Explanation: 1 occurence of `a`, followed by 2 occurences of `b`, followed by 1 occurence of `s`\n",
    "***\n",
    "**Input**\n",
    "\n",
    "```python\n",
    "compress(\"xxcccdex\")\n",
    "```\n",
    "\n",
    "**Output**\n",
    "```python\n",
    "\"x2c3d1e1x1\"\n",
    "```\n",
    "\n",
    "Explanation: 2 occurences of `x`, followed by 3 occurences of `c`, followed by 1 occurence of `d`, followed by 1 occurence of `e`, followed by 1 occurence of `x`"
   ]
  },
  {
   "cell_type": "code",
   "execution_count": 83,
   "metadata": {},
   "outputs": [
    {
     "data": {
      "text/plain": [
       "'x2c3d1e1x'"
      ]
     },
     "execution_count": 83,
     "metadata": {},
     "output_type": "execute_result"
    }
   ],
   "source": [
    "#Code starts here\n",
    "def compress(string):\n",
    "    res = \"\"\n",
    "    c = 1\n",
    "    res += string[0]\n",
    "    for i in range(len(string)-1):\n",
    "        if(string[i] == string[i+1]):\n",
    "            c+=1\n",
    "        else:\n",
    "            res += str(c)\n",
    "            res += string[i+1]\n",
    "            c=1\n",
    "    return  res \n",
    "compress(\"xxcccdex\")\n",
    "#Code ends here"
   ]
  },
  {
   "cell_type": "code",
   "execution_count": 5,
   "metadata": {},
   "outputs": [
    {
     "data": {
      "text/plain": [
       "'x2c3d1e1x3'"
      ]
     },
     "execution_count": 5,
     "metadata": {},
     "output_type": "execute_result"
    }
   ],
   "source": [
    "#by using string\n",
    "def compress(word):\n",
    "    word=word.lower()\n",
    "    res=''\n",
    "    l=0\n",
    "    while(l<len(word)):\n",
    "        m=word[l]\n",
    "        j=0\n",
    "        while(l<len(word) and word[l]==m):\n",
    "                 j=j+1\n",
    "                 l=l+1    \n",
    "        res=res+str(m)\n",
    "        res=res+str(j)\n",
    "    \n",
    "    return res\n",
    "\n",
    "compress('xxcccdexxx')"
   ]
  },
  {
   "cell_type": "code",
   "execution_count": 3,
   "metadata": {},
   "outputs": [
    {
     "data": {
      "text/plain": [
       "'x2c3d1e1x5'"
      ]
     },
     "execution_count": 3,
     "metadata": {},
     "output_type": "execute_result"
    }
   ],
   "source": [
    "def compress(word):\n",
    "    word=word.lower()\n",
    "    res=[]\n",
    "    l=0\n",
    "    while(l<len(word)):\n",
    "        m=word[l]\n",
    "        #print(m)\n",
    "        j=0\n",
    "        while(l<len(word) and word[l]==m):\n",
    "                 j=j+1\n",
    "                 l=l+1    \n",
    "\n",
    "        res.append(m)\n",
    "        res.append(str(j))\n",
    "    \n",
    "    return ''.join(res)\n",
    "compress('Xxcccdexxxxx')"
   ]
  },
  {
   "cell_type": "markdown",
   "metadata": {},
   "source": [
    "# Challenge 5: K-Distinct\n",
    "\n",
    "Write a function `k_distinct(string,k)` that given a string `'string'` and number `'k'`, it checks whether the `'string'` has `'k'` distinct characters\n",
    "\n",
    "For eg:\n",
    "***\n",
    "**Input**\n",
    "\n",
    "```python\n",
    "k_distinct('Messoptamia',8)\n",
    "```\n",
    "\n",
    "**Output**\n",
    "```python\n",
    "True\n",
    "```\n",
    "***\n",
    "**Input**\n",
    "\n",
    "```python\n",
    "k_distinct('banana',4)\n",
    "```\n",
    "\n",
    "**Output**\n",
    "```python\n",
    "False\n",
    "```\n"
   ]
  },
  {
   "cell_type": "code",
   "execution_count": 26,
   "metadata": {},
   "outputs": [
    {
     "data": {
      "text/plain": [
       "False"
      ]
     },
     "execution_count": 26,
     "metadata": {},
     "output_type": "execute_result"
    }
   ],
   "source": [
    "#Code starts here\n",
    "def k_distinct(abc,k):\n",
    "    b=len(set(abc.lower()))\n",
    "    if(b==k):\n",
    "        return True\n",
    "    return False\n",
    "k_distinct('Messoptamia',8)\n",
    "k_distinct('banana',8)\n",
    "#Code ends here"
   ]
  },
  {
   "cell_type": "code",
   "execution_count": 97,
   "metadata": {},
   "outputs": [
    {
     "name": "stdout",
     "output_type": "stream",
     "text": [
      "{'o', 'i', 'p', 's', 't', 'a', 'M', 'm', 'e'}\n",
      "{'o', 'i', 'p', 's', 't', 'a', 'm', 'e'}\n"
     ]
    }
   ],
   "source": [
    "s='Messoptamia'\n",
    "print(set(s))\n",
    "\n",
    "b='Messoptamia'\n",
    "print(set(s.lower()))"
   ]
  }
 ],
 "metadata": {
  "kernelspec": {
   "display_name": "Python 3",
   "language": "python",
   "name": "python3"
  },
  "language_info": {
   "codemirror_mode": {
    "name": "ipython",
    "version": 3
   },
   "file_extension": ".py",
   "mimetype": "text/x-python",
   "name": "python",
   "nbconvert_exporter": "python",
   "pygments_lexer": "ipython3",
   "version": "3.7.3"
  }
 },
 "nbformat": 4,
 "nbformat_minor": 2
}
