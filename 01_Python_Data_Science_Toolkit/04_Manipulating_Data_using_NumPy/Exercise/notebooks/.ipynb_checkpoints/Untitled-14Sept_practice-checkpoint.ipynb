{
 "cells": [
  {
   "cell_type": "code",
   "execution_count": 17,
   "metadata": {},
   "outputs": [
    {
     "name": "stdout",
     "output_type": "stream",
     "text": [
      "jan\n",
      "a\n",
      "feb\n",
      "a\n",
      "mar\n",
      "a\n",
      "apr\n",
      "a\n",
      "may\n",
      "a\n",
      "jun\n",
      "a\n"
     ]
    }
   ],
   "source": [
    "l1=['jan','feb','mar','apr','may','jun']\n",
    "l2=['a','b','c','d','e']\n",
    "for month in l1:\n",
    "    print(month)\n",
    "    print(l2[0])"
   ]
  },
  {
   "cell_type": "code",
   "execution_count": 22,
   "metadata": {},
   "outputs": [
    {
     "name": "stdout",
     "output_type": "stream",
     "text": [
      "dict_items([('jan', 'P1'), ('feb', 'p2'), ('mar', {'w1': 'p3', 'w3': 'p4'}), ('apr', 'p5'), ('may', 'p6')])\n",
      "jan\n",
      "P1\n",
      "feb\n",
      "p2\n",
      "mar\n",
      "{'w1': 'p3', 'w3': 'p4'}\n",
      "apr\n",
      "p5\n",
      "may\n",
      "p6\n"
     ]
    }
   ],
   "source": [
    "a={'jan':'P1','feb':'p2','mar':{'w1':'p3','w3':'p4'},'apr':'p5','may':'p6'}\n",
    "print(a.items())\n",
    "for i,j in a.items():\n",
    "    print(i)\n",
    "    print(j)\n"
   ]
  },
  {
   "cell_type": "code",
   "execution_count": 23,
   "metadata": {},
   "outputs": [
    {
     "name": "stdout",
     "output_type": "stream",
     "text": [
      "jan\n",
      "P1\n",
      "feb\n",
      "p2\n",
      "mar\n",
      "{'w1': 'p3', 'w3': 'p4'}\n",
      "apr\n",
      "p5\n",
      "may\n",
      "p6\n"
     ]
    }
   ],
   "source": [
    "a={'jan':'P1','feb':'p2','mar':{'w1':'p3','w3':'p4'},'apr':'p5','may':'p6'}\n",
    "for i,j in a.items():\n",
    "    print(i)\n",
    "    print(j)\n"
   ]
  },
  {
   "cell_type": "code",
   "execution_count": 51,
   "metadata": {
    "scrolled": true
   },
   "outputs": [
    {
     "name": "stdout",
     "output_type": "stream",
     "text": [
      "['a', 1, 'e', [7, 8]]\n",
      "a\n",
      "1\n",
      "e\n",
      "[7, 8]\n",
      "['b', 2, 'd', ['y', 'n']]\n",
      "b\n",
      "2\n",
      "d\n",
      "['y', 'n']\n"
     ]
    }
   ],
   "source": [
    "a=[['a',1,'e',[7,8]],['b',2,'d',['y','n']]]\n",
    "for i in a:\n",
    "    print(i)\n",
    "    for j in i:\n",
    "        print(j)\n"
   ]
  },
  {
   "cell_type": "code",
   "execution_count": 55,
   "metadata": {},
   "outputs": [
    {
     "name": "stdout",
     "output_type": "stream",
     "text": [
      "sun:\n",
      "  sleep\n",
      "  travel\n",
      "  job\n",
      "  work\n",
      "mon:\n",
      "  sleep\n",
      "  travel\n",
      "  job\n",
      "  work\n",
      "tue:\n",
      "  sleep\n",
      "  travel\n",
      "  job\n",
      "  work\n"
     ]
    }
   ],
   "source": [
    "day=['sun','mon','tue']\n",
    "task=['sleep','travel','job','work']\n",
    "for i in day:\n",
    "    print(str(i)+':')\n",
    "    for j in task:\n",
    "        print(' ',j)\n"
   ]
  },
  {
   "cell_type": "code",
   "execution_count": 60,
   "metadata": {},
   "outputs": [
    {
     "name": "stdout",
     "output_type": "stream",
     "text": [
      "sun: sleep\n",
      "mon: travel\n",
      "tue: job\n",
      "wed: work\n"
     ]
    }
   ],
   "source": [
    "day=['sun','mon','tue','wed']\n",
    "task=['sleep','travel','job','work']\n",
    "for i,j in zip(day,task):\n",
    "    print(i+':',j)\n",
    "  \n"
   ]
  },
  {
   "cell_type": "code",
   "execution_count": 62,
   "metadata": {},
   "outputs": [
    {
     "name": "stdout",
     "output_type": "stream",
     "text": [
      "s2\n"
     ]
    }
   ],
   "source": [
    "a='s'+str(2)\n",
    "print(a)"
   ]
  },
  {
   "cell_type": "code",
   "execution_count": 65,
   "metadata": {},
   "outputs": [],
   "source": [
    "import numpy as np\n"
   ]
  },
  {
   "cell_type": "code",
   "execution_count": 67,
   "metadata": {},
   "outputs": [
    {
     "name": "stdout",
     "output_type": "stream",
     "text": [
      "Help on function linspace in module numpy:\n",
      "\n",
      "linspace(start, stop, num=50, endpoint=True, retstep=False, dtype=None, axis=0)\n",
      "    Return evenly spaced numbers over a specified interval.\n",
      "    \n",
      "    Returns `num` evenly spaced samples, calculated over the\n",
      "    interval [`start`, `stop`].\n",
      "    \n",
      "    The endpoint of the interval can optionally be excluded.\n",
      "    \n",
      "    .. versionchanged:: 1.16.0\n",
      "        Non-scalar `start` and `stop` are now supported.\n",
      "    \n",
      "    Parameters\n",
      "    ----------\n",
      "    start : array_like\n",
      "        The starting value of the sequence.\n",
      "    stop : array_like\n",
      "        The end value of the sequence, unless `endpoint` is set to False.\n",
      "        In that case, the sequence consists of all but the last of ``num + 1``\n",
      "        evenly spaced samples, so that `stop` is excluded.  Note that the step\n",
      "        size changes when `endpoint` is False.\n",
      "    num : int, optional\n",
      "        Number of samples to generate. Default is 50. Must be non-negative.\n",
      "    endpoint : bool, optional\n",
      "        If True, `stop` is the last sample. Otherwise, it is not included.\n",
      "        Default is True.\n",
      "    retstep : bool, optional\n",
      "        If True, return (`samples`, `step`), where `step` is the spacing\n",
      "        between samples.\n",
      "    dtype : dtype, optional\n",
      "        The type of the output array.  If `dtype` is not given, infer the data\n",
      "        type from the other input arguments.\n",
      "    \n",
      "        .. versionadded:: 1.9.0\n",
      "    \n",
      "    axis : int, optional\n",
      "        The axis in the result to store the samples.  Relevant only if start\n",
      "        or stop are array-like.  By default (0), the samples will be along a\n",
      "        new axis inserted at the beginning. Use -1 to get an axis at the end.\n",
      "    \n",
      "        .. versionadded:: 1.16.0\n",
      "    \n",
      "    Returns\n",
      "    -------\n",
      "    samples : ndarray\n",
      "        There are `num` equally spaced samples in the closed interval\n",
      "        ``[start, stop]`` or the half-open interval ``[start, stop)``\n",
      "        (depending on whether `endpoint` is True or False).\n",
      "    step : float, optional\n",
      "        Only returned if `retstep` is True\n",
      "    \n",
      "        Size of spacing between samples.\n",
      "    \n",
      "    \n",
      "    See Also\n",
      "    --------\n",
      "    arange : Similar to `linspace`, but uses a step size (instead of the\n",
      "             number of samples).\n",
      "    geomspace : Similar to `linspace`, but with numbers spaced evenly on a log\n",
      "                scale (a geometric progression).\n",
      "    logspace : Similar to `geomspace`, but with the end points specified as\n",
      "               logarithms.\n",
      "    \n",
      "    Examples\n",
      "    --------\n",
      "    >>> np.linspace(2.0, 3.0, num=5)\n",
      "    array([ 2.  ,  2.25,  2.5 ,  2.75,  3.  ])\n",
      "    >>> np.linspace(2.0, 3.0, num=5, endpoint=False)\n",
      "    array([ 2. ,  2.2,  2.4,  2.6,  2.8])\n",
      "    >>> np.linspace(2.0, 3.0, num=5, retstep=True)\n",
      "    (array([ 2.  ,  2.25,  2.5 ,  2.75,  3.  ]), 0.25)\n",
      "    \n",
      "    Graphical illustration:\n",
      "    \n",
      "    >>> import matplotlib.pyplot as plt\n",
      "    >>> N = 8\n",
      "    >>> y = np.zeros(N)\n",
      "    >>> x1 = np.linspace(0, 10, N, endpoint=True)\n",
      "    >>> x2 = np.linspace(0, 10, N, endpoint=False)\n",
      "    >>> plt.plot(x1, y, 'o')\n",
      "    [<matplotlib.lines.Line2D object at 0x...>]\n",
      "    >>> plt.plot(x2, y + 0.5, 'o')\n",
      "    [<matplotlib.lines.Line2D object at 0x...>]\n",
      "    >>> plt.ylim([-0.5, 1])\n",
      "    (-0.5, 1)\n",
      "    >>> plt.show()\n",
      "\n"
     ]
    }
   ],
   "source": [
    "help(np.linspace)"
   ]
  },
  {
   "cell_type": "code",
   "execution_count": 84,
   "metadata": {},
   "outputs": [
    {
     "name": "stdout",
     "output_type": "stream",
     "text": [
      "[1.         1.08080808 1.16161616 1.24242424 1.32323232 1.4040404\n",
      " 1.48484848 1.56565657 1.64646465 1.72727273 1.80808081 1.88888889\n",
      " 1.96969697 2.05050505 2.13131313 2.21212121 2.29292929 2.37373737\n",
      " 2.45454545 2.53535354 2.61616162 2.6969697  2.77777778 2.85858586\n",
      " 2.93939394 3.02020202 3.1010101  3.18181818 3.26262626 3.34343434\n",
      " 3.42424242 3.50505051 3.58585859 3.66666667 3.74747475 3.82828283\n",
      " 3.90909091 3.98989899 4.07070707 4.15151515 4.23232323 4.31313131\n",
      " 4.39393939 4.47474747 4.55555556 4.63636364 4.71717172 4.7979798\n",
      " 4.87878788 4.95959596 5.04040404 5.12121212 5.2020202  5.28282828\n",
      " 5.36363636 5.44444444 5.52525253 5.60606061 5.68686869 5.76767677\n",
      " 5.84848485 5.92929293 6.01010101 6.09090909 6.17171717 6.25252525\n",
      " 6.33333333 6.41414141 6.49494949 6.57575758 6.65656566 6.73737374\n",
      " 6.81818182 6.8989899  6.97979798 7.06060606 7.14141414 7.22222222\n",
      " 7.3030303  7.38383838 7.46464646 7.54545455 7.62626263 7.70707071\n",
      " 7.78787879 7.86868687 7.94949495 8.03030303 8.11111111 8.19191919\n",
      " 8.27272727 8.35353535 8.43434343 8.51515152 8.5959596  8.67676768\n",
      " 8.75757576 8.83838384 8.91919192 9.        ]\n",
      "[array([1, 2, 3]), array([4, 5, 6]), array([7, 8, 9])]\n"
     ]
    }
   ],
   "source": [
    "a=np.array([1,2,3,4,5,6,7,8,9])\n",
    "b=np.linspace(1,9,num=100)\n",
    "print(b)\n",
    "print(np.split(a,3))"
   ]
  },
  {
   "cell_type": "code",
   "execution_count": 81,
   "metadata": {},
   "outputs": [
    {
     "name": "stdout",
     "output_type": "stream",
     "text": [
      "[array([1, 2, 3]), array([4, 5, 6]), array([7, 8, 9])]\n"
     ]
    }
   ],
   "source": [
    "a=np.array([1,2,3,4,5,6,7,8,9])\n",
    "print(np.array_split(a,3))"
   ]
  },
  {
   "cell_type": "code",
   "execution_count": 85,
   "metadata": {},
   "outputs": [
    {
     "name": "stdout",
     "output_type": "stream",
     "text": [
      "1\n"
     ]
    }
   ],
   "source": [
    "a = np.array([1,2,3,5,8])\n",
    "print (a.ndim)"
   ]
  },
  {
   "cell_type": "code",
   "execution_count": 87,
   "metadata": {},
   "outputs": [
    {
     "name": "stdout",
     "output_type": "stream",
     "text": [
      "9\n"
     ]
    }
   ],
   "source": [
    "import numpy as np\n",
    "a = np.arange(12).reshape(3,4)\n",
    "print(a[2,1])"
   ]
  }
 ],
 "metadata": {
  "kernelspec": {
   "display_name": "Python 3",
   "language": "python",
   "name": "python3"
  },
  "language_info": {
   "codemirror_mode": {
    "name": "ipython",
    "version": 3
   },
   "file_extension": ".py",
   "mimetype": "text/x-python",
   "name": "python",
   "nbconvert_exporter": "python",
   "pygments_lexer": "ipython3",
   "version": "3.7.3"
  }
 },
 "nbformat": 4,
 "nbformat_minor": 2
}
